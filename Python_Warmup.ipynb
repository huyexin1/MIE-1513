{
  "nbformat": 4,
  "nbformat_minor": 0,
  "metadata": {
    "kernelspec": {
      "name": "python3",
      "display_name": "Python 3"
    },
    "colab": {
      "name": "Python_Warmup.ipynb",
      "provenance": [],
      "collapsed_sections": []
    }
  },
  "cells": [
    {
      "cell_type": "markdown",
      "metadata": {
        "id": "4L1Vk_YhUVSO",
        "colab_type": "text"
      },
      "source": [
        "# Assignment - Python Warmup\n",
        "Please follow the instructions in the assignment's PDF and fill in the code for each function."
      ]
    },
    {
      "cell_type": "markdown",
      "metadata": {
        "id": "K2wlQJ1RUVSQ",
        "colab_type": "text"
      },
      "source": [
        "## Exercise 1"
      ]
    },
    {
      "cell_type": "code",
      "metadata": {
        "id": "LRYjSAU2UVSR",
        "colab_type": "code",
        "outputId": "d06b5ab8-6010-416c-94d7-485780f352af",
        "colab": {
          "base_uri": "https://localhost:8080/",
          "height": 34
        }
      },
      "source": [
        "def positionWord(filePath, position):\n",
        "  f = open(filePath,\"r\")\n",
        "  ilist=[]\n",
        "  for x in f:\n",
        "\n",
        "        x = x.replace(',', '')\n",
        "        x = x.replace('.','')\n",
        "        x= x.split()\n",
        "        ilist.append(x)\n",
        "  \n",
        "\n",
        "  return [x[position] for x in ilist]   \n",
        "\n",
        "positionWord('example.txt',3)"
      ],
      "execution_count": 0,
      "outputs": [
        {
          "output_type": "execute_result",
          "data": {
            "text/plain": [
              "['in', 'Ghost', 'humour', 'or', 'one']"
            ]
          },
          "metadata": {
            "tags": []
          },
          "execution_count": 2
        }
      ]
    },
    {
      "cell_type": "markdown",
      "metadata": {
        "id": "SVGFSuf1UVSV",
        "colab_type": "text"
      },
      "source": [
        "## Exercise 2"
      ]
    },
    {
      "cell_type": "code",
      "metadata": {
        "id": "aUz-S0pDUVSW",
        "colab_type": "code",
        "outputId": "2218c189-c080-4f4a-e693-8d56d747d8b2",
        "colab": {
          "base_uri": "https://localhost:8080/",
          "height": 34
        }
      },
      "source": [
        "def onlyUpperCase(text):\n",
        " \n",
        "  return(''.join([c for c in text if c.isupper()]))\n",
        "\n",
        "onlyUpperCase(\"lorem ipsum Dolor Sit amet\")\n",
        "\n"
      ],
      "execution_count": 0,
      "outputs": [
        {
          "output_type": "execute_result",
          "data": {
            "text/plain": [
              "'DS'"
            ]
          },
          "metadata": {
            "tags": []
          },
          "execution_count": 3
        }
      ]
    },
    {
      "cell_type": "markdown",
      "metadata": {
        "id": "z2rIx_F7UVSZ",
        "colab_type": "text"
      },
      "source": [
        "## Exercise 3"
      ]
    },
    {
      "cell_type": "code",
      "metadata": {
        "id": "E6XvgsgmUVSa",
        "colab_type": "code",
        "outputId": "1dc5f181-99f6-4ebc-d8bc-d860014198e9",
        "colab": {
          "base_uri": "https://localhost:8080/",
          "height": 34
        }
      },
      "source": [
        "def divisors(num1, num2):\n",
        "  i=1\n",
        "  nlist=[]\n",
        "  while (num2*i<=num1):\n",
        "    nlist.append(num2*i)\n",
        "    i += 1\n",
        "    if (num2*i>num1):\n",
        "       break \n",
        "      \n",
        "  return nlist\n",
        "      \n",
        "divisors(13, 3) "
      ],
      "execution_count": 0,
      "outputs": [
        {
          "output_type": "execute_result",
          "data": {
            "text/plain": [
              "[3, 6, 9, 12]"
            ]
          },
          "metadata": {
            "tags": []
          },
          "execution_count": 5
        }
      ]
    },
    {
      "cell_type": "markdown",
      "metadata": {
        "id": "fJEhXAtDUVSd",
        "colab_type": "text"
      },
      "source": [
        "## Exercise 4"
      ]
    },
    {
      "cell_type": "code",
      "metadata": {
        "id": "3Cs0OgGmUVSe",
        "colab_type": "code",
        "outputId": "7aed31a6-5cee-430e-d669-9d2ad16c312b",
        "colab": {
          "base_uri": "https://localhost:8080/",
          "height": 153
        }
      },
      "source": [
        "def countWords(wordList):\n",
        "    counts = dict()\n",
        "  \n",
        "    for word in wordList:\n",
        "        if word in counts:\n",
        "            counts[word] += 1\n",
        "        else:\n",
        "            counts[word] = 1\n",
        "\n",
        "    return counts\n",
        "  \n",
        "countWords([\"the\", \"seething\", \"sea\", \"ceaseth\",\"and\", \"thus\", \"the\", \"seething\", \"sea\", \"sufficeth\", \"us\"])"
      ],
      "execution_count": 0,
      "outputs": [
        {
          "output_type": "execute_result",
          "data": {
            "text/plain": [
              "{'and': 1,\n",
              " 'ceaseth': 1,\n",
              " 'sea': 2,\n",
              " 'seething': 2,\n",
              " 'sufficeth': 1,\n",
              " 'the': 2,\n",
              " 'thus': 1,\n",
              " 'us': 1}"
            ]
          },
          "metadata": {
            "tags": []
          },
          "execution_count": 6
        }
      ]
    },
    {
      "cell_type": "markdown",
      "metadata": {
        "id": "CGC6gPENUVSh",
        "colab_type": "text"
      },
      "source": [
        "## Exercise 5"
      ]
    },
    {
      "cell_type": "code",
      "metadata": {
        "id": "yABkiEt5UVSi",
        "colab_type": "code",
        "outputId": "487ddf87-918c-4053-8317-41bef2662388",
        "colab": {
          "base_uri": "https://localhost:8080/",
          "height": 119
        }
      },
      "source": [
        "def organizedCountWords(wordList):\n",
        "    count={}\n",
        "   \n",
        "    i=0\n",
        "\n",
        "   # for word in wordList:\n",
        "       # if word in count:\n",
        "        #    count[word] += 1\n",
        "       # else:\n",
        "       #     count[word] = 1\n",
        "    \n",
        "    \n",
        "   # k = list(count.items())\n",
        "   # k.sort(key=lambda x:len(x[0]))\n",
        "    \n",
        "   # for i in k :\n",
        "   #    new_count.update({i[0]:i[1]}) \n",
        "    \n",
        "    for i in wordList:\n",
        "      if len(i) not in count:\n",
        "        count[len(i)]={}\n",
        "      count[len(i)][i]=wordList.count(i)\n",
        "\n",
        "    return count\n",
        "organizedCountWords([\"the\", \"seething\", \"sea\", \"ceaseth\",\"and\", \"thus\", \"the\", \"seething\", \"sea\", \"sufficeth\", \"us\"])\n"
      ],
      "execution_count": 0,
      "outputs": [
        {
          "output_type": "execute_result",
          "data": {
            "text/plain": [
              "{2: {'us': 1},\n",
              " 3: {'and': 1, 'sea': 2, 'the': 2},\n",
              " 4: {'thus': 1},\n",
              " 7: {'ceaseth': 1},\n",
              " 8: {'seething': 2},\n",
              " 9: {'sufficeth': 1}}"
            ]
          },
          "metadata": {
            "tags": []
          },
          "execution_count": 7
        }
      ]
    },
    {
      "cell_type": "markdown",
      "metadata": {
        "id": "tlb0ecAtUX-e",
        "colab_type": "text"
      },
      "source": [
        "##Exercise 6"
      ]
    },
    {
      "cell_type": "code",
      "metadata": {
        "id": "FvW7BpD3UXG2",
        "colab_type": "code",
        "outputId": "88853ebe-3e36-4467-a299-42044e625fe9",
        "colab": {
          "base_uri": "https://localhost:8080/",
          "height": 173
        }
      },
      "source": [
        "import pandas as pd\n",
        "def AvgNeighbourhoodListingPrice(neighbourhoodList, room_type, number_of_reviews, minimum_nights):\n",
        "  \n",
        "    URL = 'https://raw.githubusercontent.com/MIE451-1513-2019/course-datasets/master/toronto_airbnb_listings_Aug2019.csv'\n",
        "    df=pd.read_csv(URL,sep=\",\")\n",
        "    df1=df[(df['number_of_reviews'] >= number_of_reviews) & (df['minimum_nights'] <= minimum_nights) & (df['room_type'] == room_type)]\n",
        "    grouped=df1.groupby(df1['neighbourhood'])\n",
        "    final=grouped['neighbourhood','price'].mean()\n",
        "    final= final.loc[neighbourhoodList]\n",
        "    f1=final.sort_values(['price'],ascending=False)\n",
        "    \n",
        "    return f1.round(2)\n",
        "  \n",
        "AvgNeighbourhoodListingPrice([\"Edenbridge-Humber Valley\",\"Annex\",\"The Beaches\"],\"Entire home/apt\",30, 3)\n"
      ],
      "execution_count": 47,
      "outputs": [
        {
          "output_type": "execute_result",
          "data": {
            "text/html": [
              "<div>\n",
              "<style scoped>\n",
              "    .dataframe tbody tr th:only-of-type {\n",
              "        vertical-align: middle;\n",
              "    }\n",
              "\n",
              "    .dataframe tbody tr th {\n",
              "        vertical-align: top;\n",
              "    }\n",
              "\n",
              "    .dataframe thead th {\n",
              "        text-align: right;\n",
              "    }\n",
              "</style>\n",
              "<table border=\"1\" class=\"dataframe\">\n",
              "  <thead>\n",
              "    <tr style=\"text-align: right;\">\n",
              "      <th></th>\n",
              "      <th>price</th>\n",
              "    </tr>\n",
              "    <tr>\n",
              "      <th>neighbourhood</th>\n",
              "      <th></th>\n",
              "    </tr>\n",
              "  </thead>\n",
              "  <tbody>\n",
              "    <tr>\n",
              "      <th>Edenbridge-Humber Valley</th>\n",
              "      <td>453.33</td>\n",
              "    </tr>\n",
              "    <tr>\n",
              "      <th>Annex</th>\n",
              "      <td>141.99</td>\n",
              "    </tr>\n",
              "    <tr>\n",
              "      <th>The Beaches</th>\n",
              "      <td>126.24</td>\n",
              "    </tr>\n",
              "  </tbody>\n",
              "</table>\n",
              "</div>"
            ],
            "text/plain": [
              "                           price\n",
              "neighbourhood                   \n",
              "Edenbridge-Humber Valley  453.33\n",
              "Annex                     141.99\n",
              "The Beaches               126.24"
            ]
          },
          "metadata": {
            "tags": []
          },
          "execution_count": 47
        }
      ]
    },
    {
      "cell_type": "markdown",
      "metadata": {
        "id": "cxMjcYPrjkZL",
        "colab_type": "text"
      },
      "source": [
        "## Exercise 7"
      ]
    },
    {
      "cell_type": "code",
      "metadata": {
        "id": "xRjMh_EjjnYM",
        "colab_type": "code",
        "outputId": "1725ece7-41f8-4640-8f07-ba0463e21327",
        "colab": {
          "base_uri": "https://localhost:8080/",
          "height": 68
        }
      },
      "source": [
        "import numpy as np\n",
        "import pandas as pd\n",
        "from numpy.linalg import inv\n",
        "def leastSquaresFit(urlX,urlY):\n",
        "  X=pd.read_csv(urlX,names=['x1','x2','x3']).to_numpy()\n",
        "  X = np.c_[np.ones(500),X]\n",
        "  y=pd.read_csv(urlY,sep=\",\",names=['y']).to_numpy()\n",
        "  XT=X.transpose()\n",
        "  XP=np.matmul(XT,X)\n",
        "  XPi=inv(XP)\n",
        "  w=np.matmul(XPi,XT)\n",
        "  final=np.matmul(w,y)\n",
        "  return final [1:4,:]\n",
        "\n",
        "leastSquaresFit(\"https://raw.githubusercontent.com/MIE451-1513-2019/course-datasets/master/X.csv\",\"https://raw.githubusercontent.com/MIE451-1513-2019/course-datasets/master/Y.csv\")"
      ],
      "execution_count": 37,
      "outputs": [
        {
          "output_type": "execute_result",
          "data": {
            "text/plain": [
              "array([[78.5819959 ],\n",
              "       [68.68353831],\n",
              "       [66.40178688]])"
            ]
          },
          "metadata": {
            "tags": []
          },
          "execution_count": 37
        }
      ]
    },
    {
      "cell_type": "markdown",
      "metadata": {
        "id": "4BVZJpHKUVSk",
        "colab_type": "text"
      },
      "source": [
        "----------\n",
        "## Validators\n",
        "This following cell provide basic validation of your functions.\n",
        "\n",
        "You should run each cell and make sure you do not get an exception.\n",
        "\n",
        "**IMPORTANT: passing these validators does not mean your code is correct. These are basic validators to make sure the interface of your functions is correct.**"
      ]
    },
    {
      "cell_type": "code",
      "metadata": {
        "id": "quMwwbZCrahr",
        "colab_type": "code",
        "colab": {}
      },
      "source": [
        ""
      ],
      "execution_count": 0,
      "outputs": []
    },
    {
      "cell_type": "code",
      "metadata": {
        "id": "ciHXaur-UVSk",
        "colab_type": "code",
        "colab": {}
      },
      "source": [
        "assert(isinstance(positionWord(\"example.txt\", 2), list))"
      ],
      "execution_count": 0,
      "outputs": []
    },
    {
      "cell_type": "code",
      "metadata": {
        "id": "j7V9yRrQUVSm",
        "colab_type": "code",
        "colab": {}
      },
      "source": [
        "assert(isinstance(onlyUpperCase(\"lorem ipsum Dolor Sit amet, conSectetur.\"), str))"
      ],
      "execution_count": 0,
      "outputs": []
    },
    {
      "cell_type": "code",
      "metadata": {
        "id": "xEW8K0GKUVSo",
        "colab_type": "code",
        "colab": {}
      },
      "source": [
        "assert(isinstance(divisors(23, 6), list))"
      ],
      "execution_count": 0,
      "outputs": []
    },
    {
      "cell_type": "code",
      "metadata": {
        "id": "oo1YSY-GUVSq",
        "colab_type": "code",
        "colab": {}
      },
      "source": [
        "words = [\"the\", \"seething\", \"sea\", \"ceaseth\", \"and\", \"thus\", \"the\", \"seething\", \"sea\", \"sufficeth\", \"us\"]\n",
        "assert(isinstance(countWords(words), dict))"
      ],
      "execution_count": 0,
      "outputs": []
    },
    {
      "cell_type": "code",
      "metadata": {
        "id": "FFbsU1TuUVSr",
        "colab_type": "code",
        "colab": {}
      },
      "source": [
        "words = [\"the\", \"seething\", \"sea\", \"ceaseth\", \"and\", \"thus\", \"the\", \"seething\", \"sea\", \"sufficeth\", \"us\"]\n",
        "assert(isinstance(organizedCountWords(words), dict))"
      ],
      "execution_count": 0,
      "outputs": []
    },
    {
      "cell_type": "code",
      "metadata": {
        "id": "ws_ZzLA0W1Qp",
        "colab_type": "code",
        "colab": {}
      },
      "source": [
        "df = AvgNeighbourhoodListingPrice([\"Little Portugal\",\"Waterfront Communities-The Island\",\"Rosedale-Moore Park\",\"Kensington-Chinatown\"], \"Private room\", 50, 4)\n",
        "assert(df.shape == (4,1))"
      ],
      "execution_count": 0,
      "outputs": []
    },
    {
      "cell_type": "code",
      "metadata": {
        "id": "dZNBA8Y6g602",
        "colab_type": "code",
        "colab": {}
      },
      "source": [
        "import pandas as pd\n",
        "assert(isinstance(df,pd.DataFrame))"
      ],
      "execution_count": 0,
      "outputs": []
    },
    {
      "cell_type": "code",
      "metadata": {
        "id": "1E-9ru9-jhv1",
        "colab_type": "code",
        "colab": {}
      },
      "source": [
        "w = leastSquaresFit(\"https://raw.githubusercontent.com/MIE451-1513-2019/course-datasets/master/X.csv\",\"https://raw.githubusercontent.com/MIE451-1513-2019/course-datasets/master/Y.csv\")\n",
        "assert(w.shape == (3, 1))\n"
      ],
      "execution_count": 0,
      "outputs": []
    },
    {
      "cell_type": "code",
      "metadata": {
        "id": "PDvo9Ik_hzDA",
        "colab_type": "code",
        "colab": {}
      },
      "source": [
        "assert(isinstance(w,np.ndarray))"
      ],
      "execution_count": 0,
      "outputs": []
    }
  ]
}