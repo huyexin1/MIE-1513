{
  "nbformat": 4,
  "nbformat_minor": 0,
  "metadata": {
    "kernelspec": {
      "display_name": "Python [conda env:mie451-warmup]",
      "language": "python",
      "name": "conda-env-mie451-warmup-py"
    },
    "language_info": {
      "codemirror_mode": {
        "name": "ipython",
        "version": 3
      },
      "file_extension": ".py",
      "mimetype": "text/x-python",
      "name": "python",
      "nbconvert_exporter": "python",
      "pygments_lexer": "ipython3",
      "version": "3.6.6"
    },
    "colab": {
      "name": "Python_Warmup.ipynb",
      "version": "0.3.2",
      "provenance": [],
      "collapsed_sections": []
    }
  },
  "cells": [
    {
      "cell_type": "markdown",
      "metadata": {
        "id": "4L1Vk_YhUVSO",
        "colab_type": "text"
      },
      "source": [
        "# Assignment - Python Warmup\n",
        "Please follow the instructions in the assignment's PDF and fill in the code for each function."
      ]
    },
    {
      "cell_type": "markdown",
      "metadata": {
        "id": "K2wlQJ1RUVSQ",
        "colab_type": "text"
      },
      "source": [
        "## Exercise 1"
      ]
    },
    {
      "cell_type": "code",
      "metadata": {
        "id": "LRYjSAU2UVSR",
        "colab_type": "code",
        "colab": {}
      },
      "source": [
        "def positionWord(filePath, position):\n",
        "  # Please write your code here"
      ],
      "execution_count": 0,
      "outputs": []
    },
    {
      "cell_type": "markdown",
      "metadata": {
        "id": "SVGFSuf1UVSV",
        "colab_type": "text"
      },
      "source": [
        "## Exercise 2"
      ]
    },
    {
      "cell_type": "code",
      "metadata": {
        "id": "aUz-S0pDUVSW",
        "colab_type": "code",
        "colab": {}
      },
      "source": [
        "def onlyUpperCase(text):\n",
        "  # Please write your code here"
      ],
      "execution_count": 0,
      "outputs": []
    },
    {
      "cell_type": "markdown",
      "metadata": {
        "id": "z2rIx_F7UVSZ",
        "colab_type": "text"
      },
      "source": [
        "## Exercise 3"
      ]
    },
    {
      "cell_type": "code",
      "metadata": {
        "id": "E6XvgsgmUVSa",
        "colab_type": "code",
        "colab": {}
      },
      "source": [
        "def divisors(num1, num2):\n",
        "  # Please write your code here"
      ],
      "execution_count": 0,
      "outputs": []
    },
    {
      "cell_type": "markdown",
      "metadata": {
        "id": "fJEhXAtDUVSd",
        "colab_type": "text"
      },
      "source": [
        "## Exercise 4"
      ]
    },
    {
      "cell_type": "code",
      "metadata": {
        "id": "3Cs0OgGmUVSe",
        "colab_type": "code",
        "colab": {}
      },
      "source": [
        "def countWords(wordList):\n",
        "  # Please write your code here"
      ],
      "execution_count": 0,
      "outputs": []
    },
    {
      "cell_type": "markdown",
      "metadata": {
        "id": "CGC6gPENUVSh",
        "colab_type": "text"
      },
      "source": [
        "## Exercise 5"
      ]
    },
    {
      "cell_type": "code",
      "metadata": {
        "id": "yABkiEt5UVSi",
        "colab_type": "code",
        "colab": {}
      },
      "source": [
        "def organizedCountWords(wordList):\n",
        "  # Please write your code here"
      ],
      "execution_count": 0,
      "outputs": []
    },
    {
      "cell_type": "markdown",
      "metadata": {
        "id": "tlb0ecAtUX-e",
        "colab_type": "text"
      },
      "source": [
        "##Exercise 6"
      ]
    },
    {
      "cell_type": "code",
      "metadata": {
        "id": "FvW7BpD3UXG2",
        "colab_type": "code",
        "colab": {}
      },
      "source": [
        "def AvgNeighbourhoodListingPrice(neighbourhoodList, room_type, number_of_reviews, minimum_nights):\n",
        "  # Please write your code here"
      ],
      "execution_count": 0,
      "outputs": []
    },
    {
      "cell_type": "markdown",
      "metadata": {
        "id": "cxMjcYPrjkZL",
        "colab_type": "text"
      },
      "source": [
        "## Exercise 7"
      ]
    },
    {
      "cell_type": "code",
      "metadata": {
        "id": "xRjMh_EjjnYM",
        "colab_type": "code",
        "colab": {}
      },
      "source": [
        "def leastSquaresFit(urlX,urlY):\n",
        "  # Please write your code here\n"
      ],
      "execution_count": 0,
      "outputs": []
    },
    {
      "cell_type": "markdown",
      "metadata": {
        "id": "4BVZJpHKUVSk",
        "colab_type": "text"
      },
      "source": [
        "----------\n",
        "## Validators\n",
        "This following cell provide basic validation of your functions.\n",
        "\n",
        "You should run each cell and make sure you do not get an exception.\n",
        "\n",
        "**IMPORTANT: passing these validators does not mean your code is correct. These are basic validators to make sure the interface of your functions is correct.**"
      ]
    },
    {
      "cell_type": "code",
      "metadata": {
        "id": "ciHXaur-UVSk",
        "colab_type": "code",
        "colab": {}
      },
      "source": [
        "assert(isinstance(positionWord(\"example.txt\", 2), list))"
      ],
      "execution_count": 0,
      "outputs": []
    },
    {
      "cell_type": "code",
      "metadata": {
        "id": "j7V9yRrQUVSm",
        "colab_type": "code",
        "colab": {}
      },
      "source": [
        "assert(isinstance(onlyUpperCase(\"lorem ipsum Dolor Sit amet, conSectetur.\"), str))"
      ],
      "execution_count": 0,
      "outputs": []
    },
    {
      "cell_type": "code",
      "metadata": {
        "id": "xEW8K0GKUVSo",
        "colab_type": "code",
        "colab": {}
      },
      "source": [
        "assert(isinstance(divisors(23, 6), list))"
      ],
      "execution_count": 0,
      "outputs": []
    },
    {
      "cell_type": "code",
      "metadata": {
        "id": "oo1YSY-GUVSq",
        "colab_type": "code",
        "colab": {}
      },
      "source": [
        "words = [\"the\", \"seething\", \"sea\", \"ceaseth\", \"and\", \"thus\", \"the\", \"seething\", \"sea\", \"sufficeth\", \"us\"]\n",
        "assert(isinstance(countWords(words), dict))"
      ],
      "execution_count": 0,
      "outputs": []
    },
    {
      "cell_type": "code",
      "metadata": {
        "id": "FFbsU1TuUVSr",
        "colab_type": "code",
        "colab": {}
      },
      "source": [
        "words = [\"the\", \"seething\", \"sea\", \"ceaseth\", \"and\", \"thus\", \"the\", \"seething\", \"sea\", \"sufficeth\", \"us\"]\n",
        "assert(isinstance(organizedCountWords(words), dict))"
      ],
      "execution_count": 0,
      "outputs": []
    },
    {
      "cell_type": "code",
      "metadata": {
        "id": "ws_ZzLA0W1Qp",
        "colab_type": "code",
        "colab": {}
      },
      "source": [
        "df = AvgNeighbourhoodListingPrice([\"Little Portugal\",\"Waterfront Communities-The Island\",\"Rosedale-Moore Park\",\"Kensington-Chinatown\"], \"Private room\", 50, 4)\n",
        "assert(df.shape == (4,1))"
      ],
      "execution_count": 0,
      "outputs": []
    },
    {
      "cell_type": "code",
      "metadata": {
        "id": "dZNBA8Y6g602",
        "colab_type": "code",
        "colab": {}
      },
      "source": [
        "import pandas as pd\n",
        "assert(isinstance(df,pd.DataFrame))"
      ],
      "execution_count": 0,
      "outputs": []
    },
    {
      "cell_type": "code",
      "metadata": {
        "id": "1E-9ru9-jhv1",
        "colab_type": "code",
        "colab": {}
      },
      "source": [
        "w = leastSquaresFit(\"https://raw.githubusercontent.com/MIE451-1513-2019/course-datasets/master/X.csv\",\"https://raw.githubusercontent.com/MIE451-1513-2019/course-datasets/master/Y.csv\")\n",
        "assert(w.shape == (3, 1))\n"
      ],
      "execution_count": 0,
      "outputs": []
    },
    {
      "cell_type": "code",
      "metadata": {
        "id": "PDvo9Ik_hzDA",
        "colab_type": "code",
        "colab": {}
      },
      "source": [
        "assert(isinstance(w,np.ndarray))"
      ],
      "execution_count": 0,
      "outputs": []
    }
  ]
}