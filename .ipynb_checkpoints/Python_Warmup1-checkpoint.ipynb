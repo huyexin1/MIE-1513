{
 "cells": [
  {
   "cell_type": "markdown",
   "metadata": {
    "colab_type": "text",
    "id": "4L1Vk_YhUVSO"
   },
   "source": [
    "# Assignment - Python Warmup\n",
    "Please follow the instructions in the assignment's PDF and fill in the code for each function."
   ]
  },
  {
   "cell_type": "markdown",
   "metadata": {
    "colab_type": "text",
    "id": "K2wlQJ1RUVSQ"
   },
   "source": [
    "## Exercise 1"
   ]
  },
  {
   "cell_type": "code",
   "execution_count": 0,
   "metadata": {
    "colab": {},
    "colab_type": "code",
    "id": "LRYjSAU2UVSR"
   },
   "outputs": [],
   "source": [
    "def positionWord(filePath, position):\n",
    "  # Please write your code here"
   ]
  },
  {
   "cell_type": "markdown",
   "metadata": {
    "colab_type": "text",
    "id": "SVGFSuf1UVSV"
   },
   "source": [
    "## Exercise 2"
   ]
  },
  {
   "cell_type": "code",
   "execution_count": 0,
   "metadata": {
    "colab": {},
    "colab_type": "code",
    "id": "aUz-S0pDUVSW"
   },
   "outputs": [],
   "source": [
    "def onlyUpperCase(text):\n",
    "  # Please write your code here"
   ]
  },
  {
   "cell_type": "markdown",
   "metadata": {
    "colab_type": "text",
    "id": "z2rIx_F7UVSZ"
   },
   "source": [
    "## Exercise 3"
   ]
  },
  {
   "cell_type": "code",
   "execution_count": 0,
   "metadata": {
    "colab": {},
    "colab_type": "code",
    "id": "E6XvgsgmUVSa"
   },
   "outputs": [],
   "source": [
    "def divisors(num1, num2):\n",
    "  # Please write your code here"
   ]
  },
  {
   "cell_type": "markdown",
   "metadata": {
    "colab_type": "text",
    "id": "fJEhXAtDUVSd"
   },
   "source": [
    "## Exercise 4"
   ]
  },
  {
   "cell_type": "code",
   "execution_count": 0,
   "metadata": {
    "colab": {},
    "colab_type": "code",
    "id": "3Cs0OgGmUVSe"
   },
   "outputs": [],
   "source": [
    "def countWords(wordList):\n",
    "  # Please write your code here"
   ]
  },
  {
   "cell_type": "markdown",
   "metadata": {
    "colab_type": "text",
    "id": "CGC6gPENUVSh"
   },
   "source": [
    "## Exercise 5"
   ]
  },
  {
   "cell_type": "code",
   "execution_count": 0,
   "metadata": {
    "colab": {},
    "colab_type": "code",
    "id": "yABkiEt5UVSi"
   },
   "outputs": [],
   "source": [
    "def organizedCountWords(wordList):\n",
    "  # Please write your code here"
   ]
  },
  {
   "cell_type": "markdown",
   "metadata": {
    "colab_type": "text",
    "id": "tlb0ecAtUX-e"
   },
   "source": [
    "##Exercise 6"
   ]
  },
  {
   "cell_type": "code",
   "execution_count": 0,
   "metadata": {
    "colab": {},
    "colab_type": "code",
    "id": "FvW7BpD3UXG2"
   },
   "outputs": [],
   "source": [
    "def AvgNeighbourhoodListingPrice(neighbourhoodList, room_type, number_of_reviews, minimum_nights):\n",
    "  # Please write your code here"
   ]
  },
  {
   "cell_type": "markdown",
   "metadata": {
    "colab_type": "text",
    "id": "cxMjcYPrjkZL"
   },
   "source": [
    "## Exercise 7"
   ]
  },
  {
   "cell_type": "code",
   "execution_count": 0,
   "metadata": {
    "colab": {},
    "colab_type": "code",
    "id": "xRjMh_EjjnYM"
   },
   "outputs": [],
   "source": [
    "def leastSquaresFit(urlX,urlY):\n",
    "  # Please write your code here\n"
   ]
  },
  {
   "cell_type": "markdown",
   "metadata": {
    "colab_type": "text",
    "id": "4BVZJpHKUVSk"
   },
   "source": [
    "----------\n",
    "## Validators\n",
    "This following cell provide basic validation of your functions.\n",
    "\n",
    "You should run each cell and make sure you do not get an exception.\n",
    "\n",
    "**IMPORTANT: passing these validators does not mean your code is correct. These are basic validators to make sure the interface of your functions is correct.**"
   ]
  },
  {
   "cell_type": "code",
   "execution_count": 0,
   "metadata": {
    "colab": {},
    "colab_type": "code",
    "id": "ciHXaur-UVSk"
   },
   "outputs": [],
   "source": [
    "assert(isinstance(positionWord(\"example.txt\", 2), list))"
   ]
  },
  {
   "cell_type": "code",
   "execution_count": 0,
   "metadata": {
    "colab": {},
    "colab_type": "code",
    "id": "j7V9yRrQUVSm"
   },
   "outputs": [],
   "source": [
    "assert(isinstance(onlyUpperCase(\"lorem ipsum Dolor Sit amet, conSectetur.\"), str))"
   ]
  },
  {
   "cell_type": "code",
   "execution_count": 0,
   "metadata": {
    "colab": {},
    "colab_type": "code",
    "id": "xEW8K0GKUVSo"
   },
   "outputs": [],
   "source": [
    "assert(isinstance(divisors(23, 6), list))"
   ]
  },
  {
   "cell_type": "code",
   "execution_count": 0,
   "metadata": {
    "colab": {},
    "colab_type": "code",
    "id": "oo1YSY-GUVSq"
   },
   "outputs": [],
   "source": [
    "words = [\"the\", \"seething\", \"sea\", \"ceaseth\", \"and\", \"thus\", \"the\", \"seething\", \"sea\", \"sufficeth\", \"us\"]\n",
    "assert(isinstance(countWords(words), dict))"
   ]
  },
  {
   "cell_type": "code",
   "execution_count": 0,
   "metadata": {
    "colab": {},
    "colab_type": "code",
    "id": "FFbsU1TuUVSr"
   },
   "outputs": [],
   "source": [
    "words = [\"the\", \"seething\", \"sea\", \"ceaseth\", \"and\", \"thus\", \"the\", \"seething\", \"sea\", \"sufficeth\", \"us\"]\n",
    "assert(isinstance(organizedCountWords(words), dict))"
   ]
  },
  {
   "cell_type": "code",
   "execution_count": 0,
   "metadata": {
    "colab": {},
    "colab_type": "code",
    "id": "ws_ZzLA0W1Qp"
   },
   "outputs": [],
   "source": [
    "df = AvgNeighbourhoodListingPrice([\"Little Portugal\",\"Waterfront Communities-The Island\",\"Rosedale-Moore Park\",\"Kensington-Chinatown\"], \"Private room\", 50, 4)\n",
    "assert(df.shape == (4,1))"
   ]
  },
  {
   "cell_type": "code",
   "execution_count": 0,
   "metadata": {
    "colab": {},
    "colab_type": "code",
    "id": "dZNBA8Y6g602"
   },
   "outputs": [],
   "source": [
    "import pandas as pd\n",
    "assert(isinstance(df,pd.DataFrame))"
   ]
  },
  {
   "cell_type": "code",
   "execution_count": 0,
   "metadata": {
    "colab": {},
    "colab_type": "code",
    "id": "1E-9ru9-jhv1"
   },
   "outputs": [],
   "source": [
    "w = leastSquaresFit(\"https://raw.githubusercontent.com/MIE451-1513-2019/course-datasets/master/X.csv\",\"https://raw.githubusercontent.com/MIE451-1513-2019/course-datasets/master/Y.csv\")\n",
    "assert(w.shape == (3, 1))\n"
   ]
  },
  {
   "cell_type": "code",
   "execution_count": 0,
   "metadata": {
    "colab": {},
    "colab_type": "code",
    "id": "PDvo9Ik_hzDA"
   },
   "outputs": [],
   "source": [
    "assert(isinstance(w,np.ndarray))"
   ]
  }
 ],
 "metadata": {
  "colab": {
   "collapsed_sections": [],
   "name": "Python_Warmup.ipynb",
   "provenance": [],
   "version": "0.3.2"
  },
  "kernelspec": {
   "display_name": "Python 3",
   "language": "python",
   "name": "python3"
  },
  "language_info": {
   "codemirror_mode": {
    "name": "ipython",
    "version": 3
   },
   "file_extension": ".py",
   "mimetype": "text/x-python",
   "name": "python",
   "nbconvert_exporter": "python",
   "pygments_lexer": "ipython3",
   "version": "3.7.1"
  }
 },
 "nbformat": 4,
 "nbformat_minor": 1
}
